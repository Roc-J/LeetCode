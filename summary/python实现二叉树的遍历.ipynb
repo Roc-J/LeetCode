{
 "cells": [
  {
   "cell_type": "markdown",
   "metadata": {},
   "source": [
    "## 介绍\n",
    "树是数据结构中非常重要的一种，主要的用途是用来提高查找效率，对于要重复查找的情况效果更好，如二叉排序树，FP-树。另外还有可以提高编码的效率，如哈弗曼树。\n",
    "\n",
    "![](http://img.blog.csdn.net/20150701155332682)\n",
    "\n",
    "下面使用python实现树的构造和遍历算法。实现功能包括\n",
    "* 树的构造\n",
    "* 递归实现先序遍历、中序遍历、后序遍历\n",
    "* 堆栈实现先序遍历、中序遍历、后序遍历\n",
    "* 队列实现层次遍历"
   ]
  },
  {
   "cell_type": "code",
   "execution_count": 2,
   "metadata": {},
   "outputs": [],
   "source": [
    "# Define for a binary tree node\n",
    "class TreeNode(object):\n",
    "    '''\n",
    "    节点\n",
    "    '''\n",
    "    def __init__(self, value=-1, left=None, right=None):\n",
    "        self.val = value\n",
    "        self.left = left\n",
    "        self.right = right"
   ]
  },
  {
   "cell_type": "code",
   "execution_count": 18,
   "metadata": {},
   "outputs": [],
   "source": [
    "class Tree(object):\n",
    "    '''\n",
    "    树类\n",
    "    '''\n",
    "    def __init__(self):\n",
    "        self.root = TreeNode()\n",
    "        self.myQueue = []\n",
    "        \n",
    "    def add(self, value):\n",
    "        '''\n",
    "        为树添加节点\n",
    "        '''\n",
    "        node = TreeNode(value)\n",
    "        \n",
    "        # 如果树是空的，则对跟节点进行赋值\n",
    "        if self.root.val == -1:\n",
    "            self.root = node\n",
    "            self.myQueue.append(self.root)\n",
    "        else:\n",
    "            treeNode = self.myQueue[0]\n",
    "            if treeNode.left == None:\n",
    "                treeNode.left = node\n",
    "                self.myQueue.append(treeNode.left)\n",
    "            else:\n",
    "                treeNode.right = node\n",
    "                self.myQueue.append(treeNode.right)\n",
    "                self.myQueue.pop(0)\n",
    "                \n",
    "    def front_recursive(self, root, nums):\n",
    "        '''\n",
    "        使用递归实现树的先序遍历\n",
    "        '''\n",
    "        if root == None:\n",
    "            return None\n",
    "        nums.append(root.val)\n",
    "        self.front_recursive(root.left, nums)\n",
    "        self.front_recursive(root.right, nums)\n",
    "        return nums"
   ]
  },
  {
   "cell_type": "code",
   "execution_count": 19,
   "metadata": {},
   "outputs": [
    {
     "name": "stdout",
     "output_type": "stream",
     "text": [
      "递归实现先序遍历: \n"
     ]
    }
   ],
   "source": [
    "if __name__ == '__main__':\n",
    "    '''\n",
    "    主函数\n",
    "    '''\n",
    "    values = range(10)\n",
    "    tree = Tree()\n",
    "    for elem in values:\n",
    "        tree.add(elem)\n",
    "        \n",
    "    result = []\n",
    "    print('递归实现先序遍历: ')\n",
    "    result.append(tree.front_recursive(tree.root, result))"
   ]
  },
  {
   "cell_type": "code",
   "execution_count": 20,
   "metadata": {},
   "outputs": [
    {
     "data": {
      "text/plain": [
       "[0, 1, 3, 7, 8, 4, 9, 2, 5, 6, [...]]"
      ]
     },
     "execution_count": 20,
     "metadata": {},
     "output_type": "execute_result"
    }
   ],
   "source": [
    "result"
   ]
  }
 ],
 "metadata": {
  "kernelspec": {
   "display_name": "Python 3",
   "language": "python",
   "name": "python3"
  },
  "language_info": {
   "codemirror_mode": {
    "name": "ipython",
    "version": 3
   },
   "file_extension": ".py",
   "mimetype": "text/x-python",
   "name": "python",
   "nbconvert_exporter": "python",
   "pygments_lexer": "ipython3",
   "version": "3.5.2"
  }
 },
 "nbformat": 4,
 "nbformat_minor": 2
}
